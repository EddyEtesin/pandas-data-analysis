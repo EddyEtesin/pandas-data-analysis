{
 "cells": [
  {
   "cell_type": "code",
   "execution_count": 2,
   "id": "47f6e958-51cf-40da-995d-20853f671e42",
   "metadata": {},
   "outputs": [],
   "source": [
    "import pandas as pd\n",
    "import numpy as np \n",
    "import matplotlib.pyplot as plt\n",
    "import seaborn as sns "
   ]
  },
  {
   "cell_type": "code",
   "execution_count": 3,
   "id": "32d197d5-8057-4152-9cdf-32dad756be18",
   "metadata": {},
   "outputs": [],
   "source": [
    "df = pd.read_csv(r\"C:\\Users\\LENOVO\\Documents\\Web scrapped files\\marriage_data_india.csv\")"
   ]
  },
  {
   "cell_type": "code",
   "execution_count": 8,
   "id": "f8cbdde5-6a4f-4d8a-9783-af2526c0dd62",
   "metadata": {},
   "outputs": [
    {
     "data": {
      "text/html": [
       "<div>\n",
       "<style scoped>\n",
       "    .dataframe tbody tr th:only-of-type {\n",
       "        vertical-align: middle;\n",
       "    }\n",
       "\n",
       "    .dataframe tbody tr th {\n",
       "        vertical-align: top;\n",
       "    }\n",
       "\n",
       "    .dataframe thead th {\n",
       "        text-align: right;\n",
       "    }\n",
       "</style>\n",
       "<table border=\"1\" class=\"dataframe\">\n",
       "  <thead>\n",
       "    <tr style=\"text-align: right;\">\n",
       "      <th></th>\n",
       "      <th>ID</th>\n",
       "      <th>Marriage_Type</th>\n",
       "      <th>Age_at_Marriage</th>\n",
       "      <th>Gender</th>\n",
       "      <th>Education_Level</th>\n",
       "      <th>Caste_Match</th>\n",
       "      <th>Religion</th>\n",
       "      <th>Parental_Approval</th>\n",
       "      <th>Urban_Rural</th>\n",
       "      <th>Dowry_Exchanged</th>\n",
       "      <th>Marital_Satisfaction</th>\n",
       "      <th>Divorce_Status</th>\n",
       "      <th>Children_Count</th>\n",
       "      <th>Income_Level</th>\n",
       "      <th>Years_Since_Marriage</th>\n",
       "      <th>Spouse_Working</th>\n",
       "      <th>Inter-Caste</th>\n",
       "      <th>Inter-Religion</th>\n",
       "    </tr>\n",
       "  </thead>\n",
       "  <tbody>\n",
       "    <tr>\n",
       "      <th>0</th>\n",
       "      <td>1</td>\n",
       "      <td>Love</td>\n",
       "      <td>23</td>\n",
       "      <td>Male</td>\n",
       "      <td>Graduate</td>\n",
       "      <td>Different</td>\n",
       "      <td>Hindu</td>\n",
       "      <td>No</td>\n",
       "      <td>Urban</td>\n",
       "      <td>No</td>\n",
       "      <td>Medium</td>\n",
       "      <td>Yes</td>\n",
       "      <td>5</td>\n",
       "      <td>Middle</td>\n",
       "      <td>34</td>\n",
       "      <td>No</td>\n",
       "      <td>No</td>\n",
       "      <td>No</td>\n",
       "    </tr>\n",
       "    <tr>\n",
       "      <th>1</th>\n",
       "      <td>2</td>\n",
       "      <td>Love</td>\n",
       "      <td>28</td>\n",
       "      <td>Female</td>\n",
       "      <td>School</td>\n",
       "      <td>Same</td>\n",
       "      <td>Hindu</td>\n",
       "      <td>Yes</td>\n",
       "      <td>Rural</td>\n",
       "      <td>Yes</td>\n",
       "      <td>Low</td>\n",
       "      <td>No</td>\n",
       "      <td>3</td>\n",
       "      <td>Middle</td>\n",
       "      <td>42</td>\n",
       "      <td>No</td>\n",
       "      <td>No</td>\n",
       "      <td>Yes</td>\n",
       "    </tr>\n",
       "    <tr>\n",
       "      <th>2</th>\n",
       "      <td>3</td>\n",
       "      <td>Arranged</td>\n",
       "      <td>39</td>\n",
       "      <td>Male</td>\n",
       "      <td>Postgraduate</td>\n",
       "      <td>Same</td>\n",
       "      <td>Muslim</td>\n",
       "      <td>Yes</td>\n",
       "      <td>Rural</td>\n",
       "      <td>No</td>\n",
       "      <td>Medium</td>\n",
       "      <td>No</td>\n",
       "      <td>0</td>\n",
       "      <td>High</td>\n",
       "      <td>25</td>\n",
       "      <td>No</td>\n",
       "      <td>No</td>\n",
       "      <td>No</td>\n",
       "    </tr>\n",
       "    <tr>\n",
       "      <th>3</th>\n",
       "      <td>4</td>\n",
       "      <td>Arranged</td>\n",
       "      <td>26</td>\n",
       "      <td>Female</td>\n",
       "      <td>School</td>\n",
       "      <td>Different</td>\n",
       "      <td>Hindu</td>\n",
       "      <td>Yes</td>\n",
       "      <td>Urban</td>\n",
       "      <td>Yes</td>\n",
       "      <td>Low</td>\n",
       "      <td>No</td>\n",
       "      <td>0</td>\n",
       "      <td>High</td>\n",
       "      <td>12</td>\n",
       "      <td>No</td>\n",
       "      <td>Yes</td>\n",
       "      <td>No</td>\n",
       "    </tr>\n",
       "    <tr>\n",
       "      <th>4</th>\n",
       "      <td>5</td>\n",
       "      <td>Love</td>\n",
       "      <td>32</td>\n",
       "      <td>Female</td>\n",
       "      <td>Graduate</td>\n",
       "      <td>Same</td>\n",
       "      <td>Hindu</td>\n",
       "      <td>Partial</td>\n",
       "      <td>Rural</td>\n",
       "      <td>Yes</td>\n",
       "      <td>Medium</td>\n",
       "      <td>No</td>\n",
       "      <td>1</td>\n",
       "      <td>Middle</td>\n",
       "      <td>41</td>\n",
       "      <td>No</td>\n",
       "      <td>No</td>\n",
       "      <td>Yes</td>\n",
       "    </tr>\n",
       "  </tbody>\n",
       "</table>\n",
       "</div>"
      ],
      "text/plain": [
       "   ID Marriage_Type  Age_at_Marriage  Gender Education_Level Caste_Match  \\\n",
       "0   1          Love               23    Male        Graduate   Different   \n",
       "1   2          Love               28  Female          School        Same   \n",
       "2   3      Arranged               39    Male    Postgraduate        Same   \n",
       "3   4      Arranged               26  Female          School   Different   \n",
       "4   5          Love               32  Female        Graduate        Same   \n",
       "\n",
       "  Religion Parental_Approval Urban_Rural Dowry_Exchanged Marital_Satisfaction  \\\n",
       "0    Hindu                No       Urban              No               Medium   \n",
       "1    Hindu               Yes       Rural             Yes                  Low   \n",
       "2   Muslim               Yes       Rural              No               Medium   \n",
       "3    Hindu               Yes       Urban             Yes                  Low   \n",
       "4    Hindu           Partial       Rural             Yes               Medium   \n",
       "\n",
       "  Divorce_Status  Children_Count Income_Level  Years_Since_Marriage  \\\n",
       "0            Yes               5       Middle                    34   \n",
       "1             No               3       Middle                    42   \n",
       "2             No               0         High                    25   \n",
       "3             No               0         High                    12   \n",
       "4             No               1       Middle                    41   \n",
       "\n",
       "  Spouse_Working Inter-Caste Inter-Religion  \n",
       "0             No          No             No  \n",
       "1             No          No            Yes  \n",
       "2             No          No             No  \n",
       "3             No         Yes             No  \n",
       "4             No          No            Yes  "
      ]
     },
     "execution_count": 8,
     "metadata": {},
     "output_type": "execute_result"
    }
   ],
   "source": [
    "df.head()"
   ]
  },
  {
   "cell_type": "code",
   "execution_count": 10,
   "id": "23224433-0c16-4108-b08f-c35acbdc2b9f",
   "metadata": {},
   "outputs": [
    {
     "data": {
      "text/plain": [
       "(28.533633203843795, 28.475239772949696)"
      ]
     },
     "execution_count": 10,
     "metadata": {},
     "output_type": "execute_result"
    }
   ],
   "source": [
    "#Average Age at Marriage: What is the average age at marriage for males and females?\n",
    "Male_average = df[df[\"Gender\"] == \"Male\"][\"Age_at_Marriage\"].mean()\n",
    "female_average = df[df[\"Gender\"] == \"Female\"][\"Age_at_Marriage\"].mean()\n",
    "Male_average, female_average"
   ]
  },
  {
   "cell_type": "code",
   "execution_count": 12,
   "id": "a6c83479-bdab-4263-b9eb-5fb78111f1bc",
   "metadata": {},
   "outputs": [
    {
     "name": "stdout",
     "output_type": "stream",
     "text": [
      "10.01%\n"
     ]
    }
   ],
   "source": [
    "#Divorce Rate: What percentage of marriages end in divorce?\n",
    "divorce_stats = df.groupby(\"Divorce_Status\")['ID'].count()\n",
    "divorce_percent = divorce_stats['Yes']/ (divorce_stats.sum()) *100\n",
    "print(f'{divorce_percent}%')"
   ]
  },
  {
   "cell_type": "code",
   "execution_count": 14,
   "id": "b4550780-d36c-4706-9864-2c4bc11bfbec",
   "metadata": {},
   "outputs": [
    {
     "name": "stdout",
     "output_type": "stream",
     "text": [
      "29.959999999999997%\n"
     ]
    }
   ],
   "source": [
    "#Dowry Exchange: What percentage of marriages involve dowry exchange?\n",
    "df.head()\n",
    "dowry_stats = df.groupby('Dowry_Exchanged')['ID'].count()\n",
    "dowry_percent = dowry_stats['Yes']/ (dowry_stats.sum()) * 100\n",
    "print(f'{dowry_percent}%')"
   ]
  },
  {
   "cell_type": "code",
   "execution_count": 16,
   "id": "830c0b05-9234-47eb-b2d1-a4a9b9e7e3a9",
   "metadata": {},
   "outputs": [
    {
     "name": "stdout",
     "output_type": "stream",
     "text": [
      "70.14%\n"
     ]
    }
   ],
   "source": [
    "#Parental Approval: What percentage of marriages have full parental approval?\n",
    "df.head()\n",
    "marriage_approval = df.groupby('Parental_Approval')[\"ID\"].count()\n",
    "percent_parental_approval = marriage_approval['Yes']/ (marriage_approval.sum()) * 100\n",
    "print(f'{percent_parental_approval}%')"
   ]
  },
  {
   "cell_type": "code",
   "execution_count": 18,
   "id": "5b7da0d8-b24c-4920-a0e2-96a47798dfb5",
   "metadata": {},
   "outputs": [
    {
     "name": "stdout",
     "output_type": "stream",
     "text": [
      "29.68%\n"
     ]
    }
   ],
   "source": [
    "#Inter-Caste Marriages: What percentage of marriages are inter-caste?\n",
    "df.head()\n",
    "intercaste_marriages = df.groupby('Inter-Caste')['ID'].count()\n",
    "intercaste_marriages_percent =  intercaste_marriages['Yes']/ (intercaste_marriages.sum()) * 100\n",
    "print(f'{intercaste_marriages_percent}%')"
   ]
  },
  {
   "cell_type": "code",
   "execution_count": 20,
   "id": "4a9a81bb-4c22-4a99-b3b9-42d13ae532e1",
   "metadata": {},
   "outputs": [
    {
     "name": "stdout",
     "output_type": "stream",
     "text": [
      "20.28%\n"
     ]
    }
   ],
   "source": [
    "#Inter-Religion Marriages: What percentage of marriages are inter-religion?\n",
    "df.head()\n",
    "inter_religion_marriages = df.groupby('Inter-Religion')['ID'].count()\n",
    "inter_religion_marriages_percent =  inter_religion_marriages['Yes']/ (inter_religion_marriages.sum()) * 100\n",
    "print(f'{inter_religion_marriages_percent}%')"
   ]
  },
  {
   "cell_type": "code",
   "execution_count": 22,
   "id": "d749fa31-c276-40ba-b26c-f1c40b5cff83",
   "metadata": {},
   "outputs": [
    {
     "data": {
      "text/plain": [
       "Gender\n",
       "Female    2.095713\n",
       "Male      2.101820\n",
       "Name: Marital_Satisfaction_Score, dtype: float64"
      ]
     },
     "execution_count": 22,
     "metadata": {},
     "output_type": "execute_result"
    }
   ],
   "source": [
    "#Marital Satisfaction by Gender: What is the average marital satisfaction score for males and females?\n",
    "df.head()\n",
    "marital_satisfaction_map = {'Low': 1, 'Medium': 2, 'High': 3}\n",
    "df['Marital_Satisfaction_Score'] = df['Marital_Satisfaction'].map(marital_satisfaction_map)\n",
    "df.groupby('Gender')['Marital_Satisfaction_Score'].mean()"
   ]
  },
  {
   "cell_type": "code",
   "execution_count": 24,
   "id": "d2461340-48ce-46e4-8420-f12271cb02f7",
   "metadata": {},
   "outputs": [
    {
     "data": {
      "text/plain": [
       "2.5088"
      ]
     },
     "execution_count": 24,
     "metadata": {},
     "output_type": "execute_result"
    }
   ],
   "source": [
    "#Children Count: What is the average number of children per marriage?\n",
    "df.head()\n",
    "df['Children_Count'].dropna().mean()"
   ]
  },
  {
   "cell_type": "code",
   "execution_count": 26,
   "id": "08b15d74-4991-4834-871f-b90ecb56d66e",
   "metadata": {},
   "outputs": [
    {
     "data": {
      "text/plain": [
       "Income_Level\n",
       "Middle    4983\n",
       "Low       2994\n",
       "High      2023\n",
       "Name: count, dtype: int64"
      ]
     },
     "execution_count": 26,
     "metadata": {},
     "output_type": "execute_result"
    }
   ],
   "source": [
    "#Income Level Distribution: What is the distribution of income levels among the dataset?\n",
    "df.head()\n",
    "df['Income_Level'].value_counts()"
   ]
  },
  {
   "cell_type": "code",
   "execution_count": 28,
   "id": "fd706c86-ffce-4cb2-af2a-c186091c5477",
   "metadata": {},
   "outputs": [
    {
     "data": {
      "text/plain": [
       "Education_Level\n",
       "Graduate        3943\n",
       "School          3073\n",
       "Postgraduate    2018\n",
       "PhD              966\n",
       "Name: count, dtype: int64"
      ]
     },
     "execution_count": 28,
     "metadata": {},
     "output_type": "execute_result"
    }
   ],
   "source": [
    "#Education Level Distribution: What is the distribution of education levels among the dataset?\n",
    "df.head()\n",
    "df['Education_Level'].value_counts()"
   ]
  },
  {
   "cell_type": "code",
   "execution_count": 30,
   "id": "7e8992d7-26ec-463d-9250-899086652cc3",
   "metadata": {},
   "outputs": [
    {
     "name": "stdout",
     "output_type": "stream",
     "text": [
      "50.470000000000006%\n"
     ]
    }
   ],
   "source": [
    "#Spouse Working: What percentage of spouses are working?\n",
    "df.head()\n",
    "job_status = df.groupby('Spouse_Working')['ID'].count()\n",
    "job_status_percent = job_status['Yes']/(job_status.sum()) * 100\n",
    "print(f'{job_status_percent}%')"
   ]
  },
  {
   "cell_type": "code",
   "execution_count": 32,
   "id": "07ea6727-b75f-49ec-921f-dd41085787c3",
   "metadata": {},
   "outputs": [
    {
     "name": "stdout",
     "output_type": "stream",
     "text": [
      "60.46%\n"
     ]
    }
   ],
   "source": [
    "#Urban vs. Rural Marriages: What percentage of marriages are in urban vs. rural areas?\n",
    "df.head()\n",
    "Marriage_areas = df['Urban_Rural'].value_counts()\n",
    "Marriage_areas_percent = Marriage_areas['Urban'] /(Marriage_areas.sum()) * 100 \n",
    "print(f'{Marriage_areas_percent}%')"
   ]
  },
  {
   "cell_type": "code",
   "execution_count": 34,
   "id": "0fca4792-e112-486a-8c9e-669e4e52a813",
   "metadata": {},
   "outputs": [
    {
     "data": {
      "text/plain": [
       "Religion\n",
       "Hindu        6034\n",
       "Muslim       1939\n",
       "Christian     990\n",
       "Others        531\n",
       "Sikh          506\n",
       "Name: count, dtype: int64"
      ]
     },
     "execution_count": 34,
     "metadata": {},
     "output_type": "execute_result"
    }
   ],
   "source": [
    "#Religion Distribution: What is the distribution of religions in the dataset?\n",
    "df[\"Religion\"].value_counts()"
   ]
  },
  {
   "cell_type": "code",
   "execution_count": 36,
   "id": "4aaba0c1-b5fa-42ca-b394-13e7880079b4",
   "metadata": {},
   "outputs": [
    {
     "name": "stdout",
     "output_type": "stream",
     "text": [
      "70.71%\n"
     ]
    }
   ],
   "source": [
    "#Caste Match: What percentage of marriages have the same caste?\n",
    "caste = df['Caste_Match'].value_counts()\n",
    "caste_percent = caste['Same'] /(caste.sum()) * 100\n",
    "print(f'{caste_percent}%')"
   ]
  },
  {
   "cell_type": "code",
   "execution_count": 38,
   "id": "ea31864a-5928-490b-8b7f-29073ea9a8cd",
   "metadata": {},
   "outputs": [
    {
     "data": {
      "text/plain": [
       "24.9738"
      ]
     },
     "execution_count": 38,
     "metadata": {},
     "output_type": "execute_result"
    }
   ],
   "source": [
    "#Years Since Marriage: What is the average number of years since marriage?\n",
    "df['Years_Since_Marriage'].mean()"
   ]
  },
  {
   "cell_type": "code",
   "execution_count": 40,
   "id": "cf7ae06e-81e2-449d-a1af-92f2aced4fb7",
   "metadata": {},
   "outputs": [
    {
     "data": {
      "text/html": [
       "<div>\n",
       "<style scoped>\n",
       "    .dataframe tbody tr th:only-of-type {\n",
       "        vertical-align: middle;\n",
       "    }\n",
       "\n",
       "    .dataframe tbody tr th {\n",
       "        vertical-align: top;\n",
       "    }\n",
       "\n",
       "    .dataframe thead th {\n",
       "        text-align: right;\n",
       "    }\n",
       "</style>\n",
       "<table border=\"1\" class=\"dataframe\">\n",
       "  <thead>\n",
       "    <tr style=\"text-align: right;\">\n",
       "      <th></th>\n",
       "      <th>ID</th>\n",
       "      <th>Marriage_Type</th>\n",
       "      <th>Age_at_Marriage</th>\n",
       "      <th>Gender</th>\n",
       "      <th>Education_Level</th>\n",
       "      <th>Caste_Match</th>\n",
       "      <th>Religion</th>\n",
       "      <th>Parental_Approval</th>\n",
       "      <th>Urban_Rural</th>\n",
       "      <th>Dowry_Exchanged</th>\n",
       "      <th>Marital_Satisfaction</th>\n",
       "      <th>Divorce_Status</th>\n",
       "      <th>Children_Count</th>\n",
       "      <th>Income_Level</th>\n",
       "      <th>Years_Since_Marriage</th>\n",
       "      <th>Spouse_Working</th>\n",
       "      <th>Inter-Caste</th>\n",
       "      <th>Inter-Religion</th>\n",
       "      <th>Marital_Satisfaction_Score</th>\n",
       "    </tr>\n",
       "  </thead>\n",
       "  <tbody>\n",
       "    <tr>\n",
       "      <th>0</th>\n",
       "      <td>1</td>\n",
       "      <td>Love</td>\n",
       "      <td>23</td>\n",
       "      <td>Male</td>\n",
       "      <td>Graduate</td>\n",
       "      <td>Different</td>\n",
       "      <td>Hindu</td>\n",
       "      <td>No</td>\n",
       "      <td>Urban</td>\n",
       "      <td>No</td>\n",
       "      <td>Medium</td>\n",
       "      <td>Yes</td>\n",
       "      <td>5</td>\n",
       "      <td>Middle</td>\n",
       "      <td>34</td>\n",
       "      <td>No</td>\n",
       "      <td>No</td>\n",
       "      <td>No</td>\n",
       "      <td>2</td>\n",
       "    </tr>\n",
       "    <tr>\n",
       "      <th>1</th>\n",
       "      <td>2</td>\n",
       "      <td>Love</td>\n",
       "      <td>28</td>\n",
       "      <td>Female</td>\n",
       "      <td>School</td>\n",
       "      <td>Same</td>\n",
       "      <td>Hindu</td>\n",
       "      <td>Yes</td>\n",
       "      <td>Rural</td>\n",
       "      <td>Yes</td>\n",
       "      <td>Low</td>\n",
       "      <td>No</td>\n",
       "      <td>3</td>\n",
       "      <td>Middle</td>\n",
       "      <td>42</td>\n",
       "      <td>No</td>\n",
       "      <td>No</td>\n",
       "      <td>Yes</td>\n",
       "      <td>1</td>\n",
       "    </tr>\n",
       "    <tr>\n",
       "      <th>2</th>\n",
       "      <td>3</td>\n",
       "      <td>Arranged</td>\n",
       "      <td>39</td>\n",
       "      <td>Male</td>\n",
       "      <td>Postgraduate</td>\n",
       "      <td>Same</td>\n",
       "      <td>Muslim</td>\n",
       "      <td>Yes</td>\n",
       "      <td>Rural</td>\n",
       "      <td>No</td>\n",
       "      <td>Medium</td>\n",
       "      <td>No</td>\n",
       "      <td>0</td>\n",
       "      <td>High</td>\n",
       "      <td>25</td>\n",
       "      <td>No</td>\n",
       "      <td>No</td>\n",
       "      <td>No</td>\n",
       "      <td>2</td>\n",
       "    </tr>\n",
       "    <tr>\n",
       "      <th>3</th>\n",
       "      <td>4</td>\n",
       "      <td>Arranged</td>\n",
       "      <td>26</td>\n",
       "      <td>Female</td>\n",
       "      <td>School</td>\n",
       "      <td>Different</td>\n",
       "      <td>Hindu</td>\n",
       "      <td>Yes</td>\n",
       "      <td>Urban</td>\n",
       "      <td>Yes</td>\n",
       "      <td>Low</td>\n",
       "      <td>No</td>\n",
       "      <td>0</td>\n",
       "      <td>High</td>\n",
       "      <td>12</td>\n",
       "      <td>No</td>\n",
       "      <td>Yes</td>\n",
       "      <td>No</td>\n",
       "      <td>1</td>\n",
       "    </tr>\n",
       "    <tr>\n",
       "      <th>4</th>\n",
       "      <td>5</td>\n",
       "      <td>Love</td>\n",
       "      <td>32</td>\n",
       "      <td>Female</td>\n",
       "      <td>Graduate</td>\n",
       "      <td>Same</td>\n",
       "      <td>Hindu</td>\n",
       "      <td>Partial</td>\n",
       "      <td>Rural</td>\n",
       "      <td>Yes</td>\n",
       "      <td>Medium</td>\n",
       "      <td>No</td>\n",
       "      <td>1</td>\n",
       "      <td>Middle</td>\n",
       "      <td>41</td>\n",
       "      <td>No</td>\n",
       "      <td>No</td>\n",
       "      <td>Yes</td>\n",
       "      <td>2</td>\n",
       "    </tr>\n",
       "  </tbody>\n",
       "</table>\n",
       "</div>"
      ],
      "text/plain": [
       "   ID Marriage_Type  Age_at_Marriage  Gender Education_Level Caste_Match  \\\n",
       "0   1          Love               23    Male        Graduate   Different   \n",
       "1   2          Love               28  Female          School        Same   \n",
       "2   3      Arranged               39    Male    Postgraduate        Same   \n",
       "3   4      Arranged               26  Female          School   Different   \n",
       "4   5          Love               32  Female        Graduate        Same   \n",
       "\n",
       "  Religion Parental_Approval Urban_Rural Dowry_Exchanged Marital_Satisfaction  \\\n",
       "0    Hindu                No       Urban              No               Medium   \n",
       "1    Hindu               Yes       Rural             Yes                  Low   \n",
       "2   Muslim               Yes       Rural              No               Medium   \n",
       "3    Hindu               Yes       Urban             Yes                  Low   \n",
       "4    Hindu           Partial       Rural             Yes               Medium   \n",
       "\n",
       "  Divorce_Status  Children_Count Income_Level  Years_Since_Marriage  \\\n",
       "0            Yes               5       Middle                    34   \n",
       "1             No               3       Middle                    42   \n",
       "2             No               0         High                    25   \n",
       "3             No               0         High                    12   \n",
       "4             No               1       Middle                    41   \n",
       "\n",
       "  Spouse_Working Inter-Caste Inter-Religion  Marital_Satisfaction_Score  \n",
       "0             No          No             No                           2  \n",
       "1             No          No            Yes                           1  \n",
       "2             No          No             No                           2  \n",
       "3             No         Yes             No                           1  \n",
       "4             No          No            Yes                           2  "
      ]
     },
     "execution_count": 40,
     "metadata": {},
     "output_type": "execute_result"
    }
   ],
   "source": [
    "#Divorce by Income Level: What is the divorce rate for each income level?\n",
    "df.head()"
   ]
  },
  {
   "cell_type": "code",
   "execution_count": 42,
   "id": "cc4ab34b-3d8a-4725-8aef-d513253c93c8",
   "metadata": {},
   "outputs": [
    {
     "data": {
      "text/html": [
       "<div>\n",
       "<style scoped>\n",
       "    .dataframe tbody tr th:only-of-type {\n",
       "        vertical-align: middle;\n",
       "    }\n",
       "\n",
       "    .dataframe tbody tr th {\n",
       "        vertical-align: top;\n",
       "    }\n",
       "\n",
       "    .dataframe thead th {\n",
       "        text-align: right;\n",
       "    }\n",
       "</style>\n",
       "<table border=\"1\" class=\"dataframe\">\n",
       "  <thead>\n",
       "    <tr style=\"text-align: right;\">\n",
       "      <th></th>\n",
       "      <th>ID</th>\n",
       "      <th>Marriage_Type</th>\n",
       "      <th>Age_at_Marriage</th>\n",
       "      <th>Gender</th>\n",
       "      <th>Education_Level</th>\n",
       "      <th>Caste_Match</th>\n",
       "      <th>Religion</th>\n",
       "      <th>Parental_Approval</th>\n",
       "      <th>Urban_Rural</th>\n",
       "      <th>Dowry_Exchanged</th>\n",
       "      <th>Marital_Satisfaction</th>\n",
       "      <th>Divorce_Status</th>\n",
       "      <th>Children_Count</th>\n",
       "      <th>Income_Level</th>\n",
       "      <th>Years_Since_Marriage</th>\n",
       "      <th>Spouse_Working</th>\n",
       "      <th>Inter-Caste</th>\n",
       "      <th>Inter-Religion</th>\n",
       "      <th>Marital_Satisfaction_Score</th>\n",
       "    </tr>\n",
       "  </thead>\n",
       "  <tbody>\n",
       "    <tr>\n",
       "      <th>0</th>\n",
       "      <td>1</td>\n",
       "      <td>Love</td>\n",
       "      <td>23</td>\n",
       "      <td>Male</td>\n",
       "      <td>Graduate</td>\n",
       "      <td>Different</td>\n",
       "      <td>Hindu</td>\n",
       "      <td>No</td>\n",
       "      <td>Urban</td>\n",
       "      <td>No</td>\n",
       "      <td>Medium</td>\n",
       "      <td>Yes</td>\n",
       "      <td>5</td>\n",
       "      <td>Middle</td>\n",
       "      <td>34</td>\n",
       "      <td>No</td>\n",
       "      <td>No</td>\n",
       "      <td>No</td>\n",
       "      <td>2</td>\n",
       "    </tr>\n",
       "    <tr>\n",
       "      <th>1</th>\n",
       "      <td>2</td>\n",
       "      <td>Love</td>\n",
       "      <td>28</td>\n",
       "      <td>Female</td>\n",
       "      <td>School</td>\n",
       "      <td>Same</td>\n",
       "      <td>Hindu</td>\n",
       "      <td>Yes</td>\n",
       "      <td>Rural</td>\n",
       "      <td>Yes</td>\n",
       "      <td>Low</td>\n",
       "      <td>No</td>\n",
       "      <td>3</td>\n",
       "      <td>Middle</td>\n",
       "      <td>42</td>\n",
       "      <td>No</td>\n",
       "      <td>No</td>\n",
       "      <td>Yes</td>\n",
       "      <td>1</td>\n",
       "    </tr>\n",
       "    <tr>\n",
       "      <th>2</th>\n",
       "      <td>3</td>\n",
       "      <td>Arranged</td>\n",
       "      <td>39</td>\n",
       "      <td>Male</td>\n",
       "      <td>Postgraduate</td>\n",
       "      <td>Same</td>\n",
       "      <td>Muslim</td>\n",
       "      <td>Yes</td>\n",
       "      <td>Rural</td>\n",
       "      <td>No</td>\n",
       "      <td>Medium</td>\n",
       "      <td>No</td>\n",
       "      <td>0</td>\n",
       "      <td>High</td>\n",
       "      <td>25</td>\n",
       "      <td>No</td>\n",
       "      <td>No</td>\n",
       "      <td>No</td>\n",
       "      <td>2</td>\n",
       "    </tr>\n",
       "    <tr>\n",
       "      <th>3</th>\n",
       "      <td>4</td>\n",
       "      <td>Arranged</td>\n",
       "      <td>26</td>\n",
       "      <td>Female</td>\n",
       "      <td>School</td>\n",
       "      <td>Different</td>\n",
       "      <td>Hindu</td>\n",
       "      <td>Yes</td>\n",
       "      <td>Urban</td>\n",
       "      <td>Yes</td>\n",
       "      <td>Low</td>\n",
       "      <td>No</td>\n",
       "      <td>0</td>\n",
       "      <td>High</td>\n",
       "      <td>12</td>\n",
       "      <td>No</td>\n",
       "      <td>Yes</td>\n",
       "      <td>No</td>\n",
       "      <td>1</td>\n",
       "    </tr>\n",
       "    <tr>\n",
       "      <th>4</th>\n",
       "      <td>5</td>\n",
       "      <td>Love</td>\n",
       "      <td>32</td>\n",
       "      <td>Female</td>\n",
       "      <td>Graduate</td>\n",
       "      <td>Same</td>\n",
       "      <td>Hindu</td>\n",
       "      <td>Partial</td>\n",
       "      <td>Rural</td>\n",
       "      <td>Yes</td>\n",
       "      <td>Medium</td>\n",
       "      <td>No</td>\n",
       "      <td>1</td>\n",
       "      <td>Middle</td>\n",
       "      <td>41</td>\n",
       "      <td>No</td>\n",
       "      <td>No</td>\n",
       "      <td>Yes</td>\n",
       "      <td>2</td>\n",
       "    </tr>\n",
       "  </tbody>\n",
       "</table>\n",
       "</div>"
      ],
      "text/plain": [
       "   ID Marriage_Type  Age_at_Marriage  Gender Education_Level Caste_Match  \\\n",
       "0   1          Love               23    Male        Graduate   Different   \n",
       "1   2          Love               28  Female          School        Same   \n",
       "2   3      Arranged               39    Male    Postgraduate        Same   \n",
       "3   4      Arranged               26  Female          School   Different   \n",
       "4   5          Love               32  Female        Graduate        Same   \n",
       "\n",
       "  Religion Parental_Approval Urban_Rural Dowry_Exchanged Marital_Satisfaction  \\\n",
       "0    Hindu                No       Urban              No               Medium   \n",
       "1    Hindu               Yes       Rural             Yes                  Low   \n",
       "2   Muslim               Yes       Rural              No               Medium   \n",
       "3    Hindu               Yes       Urban             Yes                  Low   \n",
       "4    Hindu           Partial       Rural             Yes               Medium   \n",
       "\n",
       "  Divorce_Status  Children_Count Income_Level  Years_Since_Marriage  \\\n",
       "0            Yes               5       Middle                    34   \n",
       "1             No               3       Middle                    42   \n",
       "2             No               0         High                    25   \n",
       "3             No               0         High                    12   \n",
       "4             No               1       Middle                    41   \n",
       "\n",
       "  Spouse_Working Inter-Caste Inter-Religion  Marital_Satisfaction_Score  \n",
       "0             No          No             No                           2  \n",
       "1             No          No            Yes                           1  \n",
       "2             No          No             No                           2  \n",
       "3             No         Yes             No                           1  \n",
       "4             No          No            Yes                           2  "
      ]
     },
     "execution_count": 42,
     "metadata": {},
     "output_type": "execute_result"
    }
   ],
   "source": [
    "#Marital Satisfaction by Religion: What is the average marital satisfaction score for each religion?#\n",
    "df.head()"
   ]
  },
  {
   "cell_type": "code",
   "execution_count": 44,
   "id": "2f361367-929f-4e32-bb29-86560aa13fae",
   "metadata": {},
   "outputs": [
    {
     "name": "stdout",
     "output_type": "stream",
     "text": [
      "Divorce_Status   Yes  Divorce_Rate (%)\n",
      "Education_Level                       \n",
      "Graduate         406         10.296728\n",
      "PhD              105         10.869565\n",
      "Postgraduate     190          9.415263\n",
      "School           300          9.762447\n"
     ]
    }
   ],
   "source": [
    "#Education Level and Divorce: What is the divorce rate for each education level?\n",
    "pivot  = df.groupby(['Education_Level','Divorce_Status']).size().unstack(fill_value =0)\n",
    "pivot['Divorce_Rate (%)'] = (pivot['Yes']/ (pivot['Yes'] + pivot['No'])) * 100\n",
    "print(pivot[['Yes', 'Divorce_Rate (%)']])"
   ]
  },
  {
   "cell_type": "code",
   "execution_count": 46,
   "id": "24f7e6df-c9ee-4502-b3e8-80f487d6181d",
   "metadata": {},
   "outputs": [
    {
     "name": "stdout",
     "output_type": "stream",
     "text": [
      "Divorce_Status     Yes  Divorce_Rate (%)\n",
      "Parental_Approval                       \n",
      "No                 114         11.035818\n",
      "Partial            172          8.806964\n",
      "Yes                715         10.193898\n"
     ]
    }
   ],
   "source": [
    "#Parental Approval and Divorce: What is the divorce rate for marriages with full, partial, or no parental approval?\n",
    "pivot = df.groupby(['Parental_Approval', 'Divorce_Status']).size().unstack(fill_value=0)\n",
    "pivot['Divorce_Rate (%)'] = (pivot['Yes'] / (pivot['Yes'] + pivot['No'])) * 100\n",
    "print(pivot[['Yes', 'Divorce_Rate (%)']])"
   ]
  },
  {
   "cell_type": "code",
   "execution_count": 48,
   "id": "18de6412-ef27-4576-8fc2-6aea30889455",
   "metadata": {},
   "outputs": [
    {
     "data": {
      "text/plain": [
       "(2.512581731721815, 2.5049464970724813)"
      ]
     },
     "execution_count": 48,
     "metadata": {},
     "output_type": "execute_result"
    }
   ],
   "source": [
    "#Spouse Working and Children Count: What is the average number of children for marriages where the spouse is working vs. not working?\n",
    "df.head()\n",
    "average_kids_spouse_working = df[df['Spouse_Working'] == \"Yes\"]['Children_Count'].mean()\n",
    "average_kids_spouse_not_working = df[df['Spouse_Working'] == \"No\"]['Children_Count'].mean()\n",
    "average_kids_spouse_working, average_kids_spouse_not_working"
   ]
  },
  {
   "cell_type": "code",
   "execution_count": null,
   "id": "47ad6b25-c965-4027-86a3-afcc9e6b7af9",
   "metadata": {},
   "outputs": [],
   "source": []
  }
 ],
 "metadata": {
  "kernelspec": {
   "display_name": "Python 3 (ipykernel)",
   "language": "python",
   "name": "python3"
  },
  "language_info": {
   "codemirror_mode": {
    "name": "ipython",
    "version": 3
   },
   "file_extension": ".py",
   "mimetype": "text/x-python",
   "name": "python",
   "nbconvert_exporter": "python",
   "pygments_lexer": "ipython3",
   "version": "3.12.4"
  }
 },
 "nbformat": 4,
 "nbformat_minor": 5
}
